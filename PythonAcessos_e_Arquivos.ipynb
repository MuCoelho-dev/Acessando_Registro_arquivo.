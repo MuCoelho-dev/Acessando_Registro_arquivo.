{
  "nbformat": 4,
  "nbformat_minor": 0,
  "metadata": {
    "colab": {
      "provenance": [],
      "mount_file_id": "1OsofmVIs2M1YiCw_f2RvJJC05tvYEwLC",
      "authorship_tag": "ABX9TyOcyHBTqYz/t7MBXmphpfD0",
      "include_colab_link": true
    },
    "kernelspec": {
      "name": "python3",
      "display_name": "Python 3"
    },
    "language_info": {
      "name": "python"
    }
  },
  "cells": [
    {
      "cell_type": "markdown",
      "metadata": {
        "id": "view-in-github",
        "colab_type": "text"
      },
      "source": [
        "<a href=\"https://colab.research.google.com/github/MuCoelho-dev/Acessando_Registro_arquivo./blob/main/PythonAcessos_e_Arquivos.ipynb\" target=\"_parent\"><img src=\"https://colab.research.google.com/assets/colab-badge.svg\" alt=\"Open In Colab\"/></a>"
      ]
    },
    {
      "cell_type": "markdown",
      "source": [
        "#ATIVIDADE 1"
      ],
      "metadata": {
        "id": "hqQOr1q8yH2A"
      }
    },
    {
      "cell_type": "code",
      "execution_count": 10,
      "metadata": {
        "id": "r9rD1owmt45H"
      },
      "outputs": [],
      "source": [
        "import time\n",
        "\n",
        "def openLog(nomearq, modo = 'r'):\n",
        "\n",
        "  '''abre arquivo nomearq em certo modo e\n",
        "  retorna referência ao arquivo aberto;\n",
        "  registra o acesso ao arquivo em log.txt'''\n",
        "\n",
        "  arqEntrada = open(nomearq, modo)\n",
        "\n",
        "  #obtém hora atual\n",
        "\n",
        "  now = time.localtime()\n",
        "\n",
        "  nowFormat = time.strftime ('%A %b/%d/%y %I:%M %p' , now)\n",
        "\n",
        " # abre arquivo log.txt no modo de acréscimo e acrescenta log\n",
        "  arqSaída = open('log.txt', 'a')\n",
        "\n",
        "  log = '{}: Arquivo {} aberto.\\n'      #formata string\n",
        "\n",
        "  arqSaída.write(log.format(nowFormat, nomearq))\n",
        "\n",
        "  arqSaída.close()\n",
        "\n",
        "  print ('Registro realizado')\n",
        "\n",
        " # Para testar\n",
        "\n",
        "  return arqEntrada\n"
      ]
    },
    {
      "cell_type": "code",
      "source": [
        "openLog('/content/drive/MyDrive/primeiro (1).txt')"
      ],
      "metadata": {
        "colab": {
          "base_uri": "https://localhost:8080/"
        },
        "id": "3724w5kP_Si1",
        "outputId": "d28984fd-a662-4c34-da03-e7e5beb6c0f5"
      },
      "execution_count": 11,
      "outputs": [
        {
          "output_type": "stream",
          "name": "stdout",
          "text": [
            "Registro realizado\n"
          ]
        },
        {
          "output_type": "execute_result",
          "data": {
            "text/plain": [
              "<_io.TextIOWrapper name='/content/drive/MyDrive/primeiro (1).txt' mode='r' encoding='utf-8'>"
            ]
          },
          "metadata": {},
          "execution_count": 11
        }
      ]
    },
    {
      "cell_type": "code",
      "source": [
        "from google.colab import drive\n",
        "drive.mount('/content/drive')"
      ],
      "metadata": {
        "id": "IgVw6KNQ5rLQ",
        "colab": {
          "base_uri": "https://localhost:8080/"
        },
        "outputId": "6f923a84-8410-467a-d462-628555cad57e"
      },
      "execution_count": null,
      "outputs": [
        {
          "output_type": "stream",
          "name": "stdout",
          "text": [
            "Drive already mounted at /content/drive; to attempt to forcibly remount, call drive.mount(\"/content/drive\", force_remount=True).\n"
          ]
        }
      ]
    },
    {
      "cell_type": "code",
      "source": [],
      "metadata": {
        "id": "oZJYIB8b7rnN"
      },
      "execution_count": null,
      "outputs": []
    }
  ]
}